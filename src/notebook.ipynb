{
 "cells": [
  {
   "cell_type": "code",
   "execution_count": 8,
   "metadata": {},
   "outputs": [],
   "source": [
    "import pandas as pd \n",
    "import numpy as np\n",
    "import pickle\n",
    "from sklearn.model_selection import train_test_split\n",
    "df = pd.read_csv(\"c:/Mlops/Campus_x_Nitish_sir_mlops_revisited/session9_mlops_revisited_repo/data/feature_eng/test_bow.csv\")"
   ]
  },
  {
   "cell_type": "code",
   "execution_count": 5,
   "metadata": {},
   "outputs": [],
   "source": [
    "import logging\n",
    "\n",
    "#step1: create logger object \n",
    "logger = logging.getLogger('testing_logger')\n",
    "logger.setLevel('DEBUG')\n",
    "\n",
    "#step2: create habdler object \n",
    "console_handler = logging.StreamHandler()\n",
    "console_handler.setLevel('DEBUG')\n",
    "\n",
    "#step3: create formatter\n",
    "formatter = logging.Formatter('%(asctime)s - %(name)s - %(levelname)s - %(message)s')\n",
    "\n",
    "#step4: add formatter to handler\n",
    "console_handler.setFormatter(formatter)\n",
    "#step4: add handler to logger\n",
    "logger.addHandler(console_handler)"
   ]
  },
  {
   "cell_type": "code",
   "execution_count": 19,
   "metadata": {},
   "outputs": [
    {
     "name": "stderr",
     "output_type": "stream",
     "text": [
      "2024-12-22 21:12:32,757 - testing_logger - DEBUG - This is debug message\n",
      "2024-12-22 21:12:32,765 - testing_logger - INFO - This is a info messagee\n"
     ]
    },
    {
     "name": "stdout",
     "output_type": "stream",
     "text": [
      "[22/Dec/2024 21:12:32] INFO - This is a info messagee\n"
     ]
    },
    {
     "name": "stderr",
     "output_type": "stream",
     "text": [
      "2024-12-22 21:12:32,770 - testing_logger - ERROR - this is an error log\n"
     ]
    },
    {
     "name": "stdout",
     "output_type": "stream",
     "text": [
      "[22/Dec/2024 21:12:32] ERROR - this is an error log\n"
     ]
    },
    {
     "name": "stderr",
     "output_type": "stream",
     "text": [
      "2024-12-22 21:12:32,773 - testing_logger - ERROR - hi\n"
     ]
    },
    {
     "name": "stdout",
     "output_type": "stream",
     "text": [
      "[22/Dec/2024 21:12:32] ERROR - hi\n"
     ]
    }
   ],
   "source": [
    "logger.debug(\"This is debug message\")\n",
    "logger.info(\"This is a info messagee\")\n",
    "logger.error(\"this is an error log\")\n",
    "logger.error('hi')"
   ]
  },
  {
   "cell_type": "code",
   "execution_count": null,
   "metadata": {},
   "outputs": [],
   "source": []
  },
  {
   "cell_type": "code",
   "execution_count": null,
   "metadata": {},
   "outputs": [],
   "source": []
  },
  {
   "cell_type": "code",
   "execution_count": null,
   "metadata": {},
   "outputs": [],
   "source": []
  }
 ],
 "metadata": {
  "kernelspec": {
   "display_name": "base",
   "language": "python",
   "name": "python3"
  },
  "language_info": {
   "codemirror_mode": {
    "name": "ipython",
    "version": 3
   },
   "file_extension": ".py",
   "mimetype": "text/x-python",
   "name": "python",
   "nbconvert_exporter": "python",
   "pygments_lexer": "ipython3",
   "version": "3.11.5"
  }
 },
 "nbformat": 4,
 "nbformat_minor": 2
}
